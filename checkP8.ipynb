{
 "cells": [
  {
   "cell_type": "code",
   "execution_count": 92,
   "id": "cc03ff6e",
   "metadata": {
    "scrolled": true
   },
   "outputs": [
    {
     "data": {
      "text/plain": [
       "'hello go my code\\naaa\\nbbb\\nccccc\\nddddddd\\neeee'"
      ]
     },
     "execution_count": 92,
     "metadata": {},
     "output_type": "execute_result"
    }
   ],
   "source": [
    "#Q1\n",
    "f = open(\"a.txt\")\n",
    "f.read()\n"
   ]
  },
  {
   "cell_type": "code",
   "execution_count": 93,
   "id": "d4fe6bf0",
   "metadata": {},
   "outputs": [
    {
     "name": "stdout",
     "output_type": "stream",
     "text": [
      "n=2\n",
      "hello go my code\n",
      "\n",
      "aaa\n",
      "\n"
     ]
    }
   ],
   "source": [
    "#Q2\n",
    "e=int(input(\"n=\"))\n",
    "f = open(\"a.txt\",'r')\n",
    "lines_number=e\n",
    "for i in range(lines_number):\n",
    "    L=f.readline()\n",
    "    print(L)"
   ]
  },
  {
   "cell_type": "code",
   "execution_count": 94,
   "id": "8ab6e602",
   "metadata": {},
   "outputs": [
    {
     "name": "stdout",
     "output_type": "stream",
     "text": [
      "x=2\n",
      "['ddddddd\\n', 'eeee']\n"
     ]
    }
   ],
   "source": [
    "#Q3\n",
    "x=int(input(\"x=\"))\n",
    "a = open(\"a.txt\", \"r\")\n",
    "lines = a.readlines()\n",
    "last_lines = lines[-x:]\n",
    "\n",
    "print(last_lines)"
   ]
  },
  {
   "cell_type": "code",
   "execution_count": 95,
   "id": "cb1a2886",
   "metadata": {},
   "outputs": [
    {
     "name": "stdout",
     "output_type": "stream",
     "text": [
      "Number of words the text file a.txt : 9\n"
     ]
    }
   ],
   "source": [
    "#Q4\n",
    "file = open(\"a.txt\", \"rt\")\n",
    "data = file.read()\n",
    "words = data.split()\n",
    "\n",
    "print('Number of words the text file a.txt :', len(words))\n"
   ]
  },
  {
   "cell_type": "code",
   "execution_count": null,
   "id": "bab97925",
   "metadata": {},
   "outputs": [],
   "source": []
  }
 ],
 "metadata": {
  "kernelspec": {
   "display_name": "Python 3",
   "language": "python",
   "name": "python3"
  },
  "language_info": {
   "codemirror_mode": {
    "name": "ipython",
    "version": 3
   },
   "file_extension": ".py",
   "mimetype": "text/x-python",
   "name": "python",
   "nbconvert_exporter": "python",
   "pygments_lexer": "ipython3",
   "version": "3.8.8"
  }
 },
 "nbformat": 4,
 "nbformat_minor": 5
}
