{
 "cells": [
  {
   "cell_type": "code",
   "execution_count": 2,
   "id": "d358a57d",
   "metadata": {},
   "outputs": [],
   "source": [
    "import numpy as np"
   ]
  },
  {
   "cell_type": "code",
   "execution_count": 3,
   "id": "32f94fd8",
   "metadata": {},
   "outputs": [
    {
     "name": "stdout",
     "output_type": "stream",
     "text": [
      "[[1, 2, 3], [4, 5, 6]]\n"
     ]
    }
   ],
   "source": [
    "#Q1\n",
    "array1=np.array([[1,2,3],[4,5,6]])\n",
    "print(array1.tolist())"
   ]
  },
  {
   "cell_type": "code",
   "execution_count": 22,
   "id": "2ee6a468",
   "metadata": {},
   "outputs": [
    {
     "name": "stdout",
     "output_type": "stream",
     "text": [
      "[[0 1 2]\n",
      " [3 4 5]\n",
      " [6 7 8]]\n",
      "the sum of the diagonal elements is: 12\n"
     ]
    }
   ],
   "source": [
    "#Q2\n",
    "x = np.arange(9)\n",
    "m=x.reshape(3,3)\n",
    "print(m)\n",
    "result =  np.trace(m)\n",
    "print(\"the sum of the diagonal elements is:\",result)"
   ]
  },
  {
   "cell_type": "code",
   "execution_count": 42,
   "id": "b2a73e8a",
   "metadata": {},
   "outputs": [
    {
     "name": "stdout",
     "output_type": "stream",
     "text": [
      "Values bigger than 20 = [30 40]\n"
     ]
    }
   ],
   "source": [
    "#Q3\n",
    "x = np.array([[0, 10, 20], [20, 30, 40]])\n",
    "print(\"Values bigger than 20 =\", x[x>20])"
   ]
  },
  {
   "cell_type": "code",
   "execution_count": 34,
   "id": "bd6f54d1",
   "metadata": {},
   "outputs": [
    {
     "name": "stdout",
     "output_type": "stream",
     "text": [
      "[10 10 10]\n"
     ]
    }
   ],
   "source": [
    "#Q4\n",
    "a=np.array([5,2,7])\n",
    "b=np.array([5,8,3])\n",
    "c=a+b\n",
    "print(c)"
   ]
  },
  {
   "cell_type": "code",
   "execution_count": 39,
   "id": "77456454",
   "metadata": {},
   "outputs": [
    {
     "name": "stdout",
     "output_type": "stream",
     "text": [
      "10.0\n",
      "[0. 0. 0.]\n"
     ]
    }
   ],
   "source": [
    "#Q5\n",
    "x=np.array([10,10,10])\n",
    "y=x.mean()\n",
    "print(y)\n",
    "c=x-y\n",
    "print(c)"
   ]
  }
 ],
 "metadata": {
  "kernelspec": {
   "display_name": "Python 3",
   "language": "python",
   "name": "python3"
  },
  "language_info": {
   "codemirror_mode": {
    "name": "ipython",
    "version": 3
   },
   "file_extension": ".py",
   "mimetype": "text/x-python",
   "name": "python",
   "nbconvert_exporter": "python",
   "pygments_lexer": "ipython3",
   "version": "3.8.8"
  }
 },
 "nbformat": 4,
 "nbformat_minor": 5
}
