{
 "cells": [
  {
   "cell_type": "code",
   "execution_count": 64,
   "id": "272a4efc",
   "metadata": {},
   "outputs": [
    {
     "name": "stdout",
     "output_type": "stream",
     "text": [
      "nombre=666\n",
      "True\n"
     ]
    }
   ],
   "source": [
    "nombre=input(\"nombre=\")\n",
    "def repdigit(nombre):\n",
    "    x=(len(nombre))\n",
    "    test=True\n",
    "    n=0\n",
    "    while test==True and n<(x-1):\n",
    "        if nombre[n]==nombre[n+1] and int (nombre)>=0:\n",
    "            test=True\n",
    "            n+=1\n",
    "        else:\n",
    "            test=False\n",
    "    return(test)\n",
    "print(repdigit(nombre))"
   ]
  },
  {
   "cell_type": "code",
   "execution_count": 84,
   "id": "117dc8a2",
   "metadata": {},
   "outputs": [
    {
     "name": "stdout",
     "output_type": "stream",
     "text": [
      "l effectif de la liste=5\n",
      "donner une lettrea\n",
      "donner une lettrea\n",
      "donner une lettrea\n",
      "donner une lettreab\n",
      "donner une lettreb\n",
      "{'a': 3, 'ab': 1, 'b': 1}\n"
     ]
    }
   ],
   "source": [
    "from collections import Counter\n",
    "l=[]\n",
    "n=int(input(\"l effectif de la liste=\"))\n",
    "for i in range (0,n):\n",
    "    x=input(\"donner une lettre\")\n",
    "    l.append(x)\n",
    "def a(lst):\n",
    "    dct={}\n",
    "    frequence = Counter(l)\n",
    "    for (key, value) in frequence.items():\n",
    "        dct[key]=value  \n",
    "    return(dct)\n",
    "print(a(l))"
   ]
  },
  {
   "cell_type": "code",
   "execution_count": 102,
   "id": "a03d8b26",
   "metadata": {},
   "outputs": [
    {
     "name": "stdout",
     "output_type": "stream",
     "text": [
      "donner l'effectif de la liste5\n",
      "donner les valeurs à ajoutera\n",
      "donner les valeurs à ajouterb\n",
      "donner les valeurs à ajouterc\n",
      "donner les valeurs à ajouterd\n",
      "donner les valeurs à ajoutere\n"
     ]
    },
    {
     "ename": "NameError",
     "evalue": "name 's' is not defined",
     "output_type": "error",
     "traceback": [
      "\u001b[1;31m---------------------------------------------------------------------------\u001b[0m",
      "\u001b[1;31mNameError\u001b[0m                                 Traceback (most recent call last)",
      "\u001b[1;32m<ipython-input-102-0b6cb21db68c>\u001b[0m in \u001b[0;36m<module>\u001b[1;34m\u001b[0m\n\u001b[0;32m      7\u001b[0m     \u001b[0ms\u001b[0m\u001b[1;33m=\u001b[0m\u001b[1;36m0\u001b[0m\u001b[1;33m\u001b[0m\u001b[1;33m\u001b[0m\u001b[0m\n\u001b[0;32m      8\u001b[0m \u001b[1;32mfor\u001b[0m \u001b[0mi\u001b[0m \u001b[1;32min\u001b[0m \u001b[0ml\u001b[0m\u001b[1;33m:\u001b[0m\u001b[1;33m\u001b[0m\u001b[1;33m\u001b[0m\u001b[0m\n\u001b[1;32m----> 9\u001b[1;33m     \u001b[0ms\u001b[0m\u001b[1;33m=\u001b[0m\u001b[0ms\u001b[0m\u001b[1;33m+\u001b[0m\u001b[0mi\u001b[0m\u001b[1;33m\u001b[0m\u001b[1;33m\u001b[0m\u001b[0m\n\u001b[0m\u001b[0;32m     10\u001b[0m \u001b[1;32mreturn\u001b[0m\u001b[1;33m(\u001b[0m\u001b[0ms\u001b[0m\u001b[1;33m)\u001b[0m\u001b[1;33m\u001b[0m\u001b[1;33m\u001b[0m\u001b[0m\n\u001b[0;32m     11\u001b[0m \u001b[0mprint\u001b[0m\u001b[1;33m(\u001b[0m\u001b[0msomme\u001b[0m\u001b[1;33m(\u001b[0m\u001b[0ml\u001b[0m\u001b[1;33m)\u001b[0m\u001b[1;33m)\u001b[0m\u001b[1;33m\u001b[0m\u001b[1;33m\u001b[0m\u001b[0m\n",
      "\u001b[1;31mNameError\u001b[0m: name 's' is not defined"
     ]
    }
   ],
   "source": [
    "l=[]\n",
    "n=int(input(\"donner l'effectif de la liste\"))\n",
    "for i in range (0,n):\n",
    "    x=(input(\"donner les valeurs à ajouter\"))\n",
    "    l.append(x)\n",
    "def constract(l):\n",
    "    s=0\n",
    "for i in l:\n",
    "    s=s+i\n",
    "return(s)\n",
    "print(somme(l))\n"
   ]
  },
  {
   "cell_type": "code",
   "execution_count": 6,
   "id": "e6be0724",
   "metadata": {},
   "outputs": [
    {
     "name": "stdout",
     "output_type": "stream",
     "text": [
      "nombre=331\n"
     ]
    },
    {
     "ename": "TypeError",
     "evalue": "'int' object is not iterable",
     "output_type": "error",
     "traceback": [
      "\u001b[1;31m---------------------------------------------------------------------------\u001b[0m",
      "\u001b[1;31mTypeError\u001b[0m                                 Traceback (most recent call last)",
      "\u001b[1;32m<ipython-input-6-37b5db7db010>\u001b[0m in \u001b[0;36m<module>\u001b[1;34m\u001b[0m\n\u001b[0;32m      3\u001b[0m \u001b[0mn\u001b[0m\u001b[1;33m=\u001b[0m\u001b[0mlen\u001b[0m\u001b[1;33m(\u001b[0m\u001b[0mx\u001b[0m\u001b[1;33m)\u001b[0m\u001b[1;33m\u001b[0m\u001b[1;33m\u001b[0m\u001b[0m\n\u001b[0;32m      4\u001b[0m \u001b[0mp\u001b[0m\u001b[1;33m=\u001b[0m\u001b[1;36m1\u001b[0m\u001b[1;33m\u001b[0m\u001b[1;33m\u001b[0m\u001b[0m\n\u001b[1;32m----> 5\u001b[1;33m \u001b[1;32mfor\u001b[0m \u001b[0mi\u001b[0m \u001b[1;32min\u001b[0m \u001b[0my\u001b[0m\u001b[1;33m:\u001b[0m\u001b[1;33m\u001b[0m\u001b[1;33m\u001b[0m\u001b[0m\n\u001b[0m\u001b[0;32m      6\u001b[0m     \u001b[0mp\u001b[0m\u001b[1;33m=\u001b[0m\u001b[0mp\u001b[0m\u001b[1;33m*\u001b[0m\u001b[0mi\u001b[0m\u001b[1;33m\u001b[0m\u001b[1;33m\u001b[0m\u001b[0m\n\u001b[0;32m      7\u001b[0m \u001b[0mprint\u001b[0m\u001b[1;33m(\u001b[0m\u001b[0mcalc\u001b[0m\u001b[1;33m)\u001b[0m\u001b[1;33m\u001b[0m\u001b[1;33m\u001b[0m\u001b[0m\n",
      "\u001b[1;31mTypeError\u001b[0m: 'int' object is not iterable"
     ]
    }
   ],
   "source": [
    "x=input(\"nombre=\")\n",
    "y=int(x)\n",
    "n=len(x)\n",
    "p=1\n",
    "for i in y:\n",
    "    p=p*i\n",
    "print(calc)"
   ]
  },
  {
   "cell_type": "code",
   "execution_count": 71,
   "id": "5d537b5b",
   "metadata": {},
   "outputs": [
    {
     "name": "stdout",
     "output_type": "stream",
     "text": [
      "234\n",
      "24\n"
     ]
    }
   ],
   "source": [
    "x=input()\n",
    "e=len(x)\n",
    "def produit(x):\n",
    "    l=1\n",
    "    for i in range(0,e):\n",
    "        l= l* int(x[i])\n",
    "    return l\n",
    "print(produit(x))\n"
   ]
  },
  {
   "cell_type": "code",
   "execution_count": 12,
   "id": "a5b48c6f",
   "metadata": {},
   "outputs": [
    {
     "name": "stdout",
     "output_type": "stream",
     "text": [
      "input your list: 1,2,0,1,1\n"
     ]
    },
    {
     "ename": "NameError",
     "evalue": "name 'lst' is not defined",
     "output_type": "error",
     "traceback": [
      "\u001b[1;31m---------------------------------------------------------------------------\u001b[0m",
      "\u001b[1;31mNameError\u001b[0m                                 Traceback (most recent call last)",
      "\u001b[1;32m<ipython-input-12-531c02f52b1d>\u001b[0m in \u001b[0;36m<module>\u001b[1;34m\u001b[0m\n\u001b[0;32m      8\u001b[0m         \u001b[0mlst\u001b[0m\u001b[1;33m.\u001b[0m\u001b[0mappend\u001b[0m\u001b[1;33m(\u001b[0m\u001b[1;36m0\u001b[0m\u001b[1;33m)\u001b[0m\u001b[1;33m\u001b[0m\u001b[1;33m\u001b[0m\u001b[0m\n\u001b[0;32m      9\u001b[0m     \u001b[1;32mreturn\u001b[0m\u001b[1;33m(\u001b[0m\u001b[0mlst\u001b[0m\u001b[1;33m)\u001b[0m\u001b[1;33m\u001b[0m\u001b[1;33m\u001b[0m\u001b[0m\n\u001b[1;32m---> 10\u001b[1;33m \u001b[0mprint\u001b[0m\u001b[1;33m(\u001b[0m\u001b[0mlst\u001b[0m\u001b[1;33m)\u001b[0m\u001b[1;33m\u001b[0m\u001b[1;33m\u001b[0m\u001b[0m\n\u001b[0m\u001b[0;32m     11\u001b[0m \u001b[1;33m\u001b[0m\u001b[0m\n",
      "\u001b[1;31mNameError\u001b[0m: name 'lst' is not defined"
     ]
    }
   ],
   "source": [
    "l=list(map(int,input(\"input your list: \").split(\",\")))\n",
    "def zero(l):\n",
    "    lst=[]\n",
    "    for i in l:\n",
    "        x=i==0\n",
    "        lst.append(x)\n",
    "    e=len(l)-len(lst)\n",
    "    for i in range(e):\n",
    "        lst.append(0)\n",
    "    return(lst)\n",
    "    \n"
   ]
  },
  {
   "cell_type": "code",
   "execution_count": 74,
   "id": "e619697e",
   "metadata": {},
   "outputs": [
    {
     "name": "stdout",
     "output_type": "stream",
     "text": [
      "entrer un strmoha\n",
      "m\n",
      "mo\n",
      "moh\n",
      "moha\n",
      "moh\n",
      "mo\n",
      "m\n"
     ]
    }
   ],
   "source": [
    "s=input(\"entrer un str\")\n",
    "def constract_deconstract(s):\n",
    "    l=[]\n",
    "    for i in range(1,len(s)+1):\n",
    "        l.append(s[0:i])\n",
    "    for j in range(1,len(s)):\n",
    "        j=len(s)-j\n",
    "        l.append(s[0:j])\n",
    "    return l\n",
    "y=constract_deconstract(s)\n",
    "print(*y,sep='\\n')\n",
    "\n",
    "\n",
    "\n",
    "\n",
    "\n",
    "        "
   ]
  },
  {
   "cell_type": "code",
   "execution_count": 21,
   "id": "f878323d",
   "metadata": {},
   "outputs": [
    {
     "name": "stdout",
     "output_type": "stream",
     "text": [
      "input your list: 1,1,0,0,1,2\n",
      "[1, 1, 1, 2, 0, 0]\n"
     ]
    }
   ],
   "source": [
    "l=list(map(int,input(\"input your list: \").split(\",\")))\n",
    "def zero(l):\n",
    "    lst=[i for i in l if i!=0]\n",
    "    e=len(l)-len(lst)\n",
    "    for i in range (e):\n",
    "        lst.append(0)\n",
    "    return lst\n",
    "print(zero(l))\n",
    "    "
   ]
  },
  {
   "cell_type": "code",
   "execution_count": null,
   "id": "d9982b98",
   "metadata": {},
   "outputs": [],
   "source": [
    "   for j in range (0,len(l)):\n",
    "        l[j] = 0\n",
    "        return l\n",
    "print(zero(l)"
   ]
  },
  {
   "cell_type": "code",
   "execution_count": null,
   "id": "0e08c97a",
   "metadata": {},
   "outputs": [],
   "source": []
  }
 ],
 "metadata": {
  "kernelspec": {
   "display_name": "Python 3",
   "language": "python",
   "name": "python3"
  },
  "language_info": {
   "codemirror_mode": {
    "name": "ipython",
    "version": 3
   },
   "file_extension": ".py",
   "mimetype": "text/x-python",
   "name": "python",
   "nbconvert_exporter": "python",
   "pygments_lexer": "ipython3",
   "version": "3.8.8"
  }
 },
 "nbformat": 4,
 "nbformat_minor": 5
}
