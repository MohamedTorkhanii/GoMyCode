{
 "cells": [
  {
   "cell_type": "code",
   "execution_count": 43,
   "id": "0243a1e5",
   "metadata": {},
   "outputs": [
    {
     "name": "stdout",
     "output_type": "stream",
     "text": [
      "35\n"
     ]
    }
   ],
   "source": [
    "def maximum(a,b,c):\n",
    "    if a>b and a>c:\n",
    "        return(a)\n",
    "    if b>a and b>c:\n",
    "        return(b)\n",
    "    if c>a and c>b:\n",
    "        return(c)\n",
    "x=maximum(20,35,19)\n",
    "print(x)\n",
    "    \n",
    "\n"
   ]
  },
  {
   "cell_type": "code",
   "execution_count": 41,
   "id": "a4c91259",
   "metadata": {},
   "outputs": [
    {
     "name": "stdout",
     "output_type": "stream",
     "text": [
      "the wordsuihi\n",
      "uihi\n"
     ]
    }
   ],
   "source": [
    "a=int(input(\"a=\"))\n",
    "b=int(input(\"b=\"))\n",
    "def calculation(a,b):\n",
    "    x=(a+b,a-b)\n",
    "    return(x)\n",
    "y=calculation(a,b)\n",
    "print(y)\n"
   ]
  },
  {
   "cell_type": "code",
   "execution_count": null,
   "id": "334d7430",
   "metadata": {},
   "outputs": [],
   "source": [
    "l=[]\n",
    "n=int(input(\"donner l'effectif de la liste\"))\n",
    "for i in range (0,n):\n",
    "    x=int(input(\"donner les valeurs à ajouter\"))\n",
    "    l.append(x)\n",
    "def somme(l):\n",
    "    s=0\n",
    "    for i in l:\n",
    "        s=s+i\n",
    "    return s\n",
    "def produit(l):\n",
    "    p=1\n",
    "    for i in l:\n",
    "        p=p*i\n",
    "    return p\n",
    "l1=[]\n",
    "l2=[]\n",
    "for i in range (0,len(l),2):\n",
    "    l1.append(l[i])\n",
    "    x=somme(l1)\n",
    "print(\"the sum of the even number is\",x)\n",
    "for i in range (1,len(l),2):\n",
    "    l2.append(l[i])\n",
    "    y=somme(l2)\n",
    "print(\"the sum of the even numbers is\",x)"
   ]
  },
  {
   "cell_type": "code",
   "execution_count": null,
   "id": "e3566b0c",
   "metadata": {},
   "outputs": [],
   "source": [
    "x=input(\"the words\")\n",
    "I=x.split(\"-\")\n",
    "I.sort()\n",
    "print(\"-\".join(I))"
   ]
  }
 ],
 "metadata": {
  "kernelspec": {
   "display_name": "Python 3",
   "language": "python",
   "name": "python3"
  },
  "language_info": {
   "codemirror_mode": {
    "name": "ipython",
    "version": 3
   },
   "file_extension": ".py",
   "mimetype": "text/x-python",
   "name": "python",
   "nbconvert_exporter": "python",
   "pygments_lexer": "ipython3",
   "version": "3.8.8"
  }
 },
 "nbformat": 4,
 "nbformat_minor": 5
}
