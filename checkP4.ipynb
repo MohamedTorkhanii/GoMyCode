{
 "cells": [
  {
   "cell_type": "code",
   "execution_count": 15,
   "id": "85b6aa38",
   "metadata": {},
   "outputs": [],
   "source": [
    "from math import*"
   ]
  },
  {
   "cell_type": "code",
   "execution_count": 43,
   "id": "0243a1e5",
   "metadata": {},
   "outputs": [
    {
     "name": "stdout",
     "output_type": "stream",
     "text": [
      "35\n"
     ]
    }
   ],
   "source": [
    "def maximum(a,b,c):\n",
    "    if a>b and a>c:\n",
    "        return(a)\n",
    "    if b>a and b>c:\n",
    "        return(b)\n",
    "    if c>a and c>b:\n",
    "        return(c)\n",
    "x=maximum(20,35,19)\n",
    "print(x)"
   ]
  },
  {
   "cell_type": "code",
   "execution_count": 41,
   "id": "a4c91259",
   "metadata": {},
   "outputs": [
    {
     "name": "stdout",
     "output_type": "stream",
     "text": [
      "the wordsuihi\n",
      "uihi\n"
     ]
    }
   ],
   "source": [
    "a=int(input(\"a=\"))\n",
    "b=int(input(\"b=\"))\n",
    "def calculation(a,b):\n",
    "    x=(a+b,a-b)\n",
    "    return(x)\n",
    "y=calculation(a,b)\n",
    "print(y)"
   ]
  },
  {
   "cell_type": "code",
   "execution_count": 3,
   "id": "334d7430",
   "metadata": {},
   "outputs": [
    {
     "name": "stdout",
     "output_type": "stream",
     "text": [
      "donner l'effectif de la liste4\n",
      "donner les valeurs à ajouter1\n",
      "donner les valeurs à ajouter2\n",
      "donner les valeurs à ajouter3\n",
      "donner les valeurs à ajouter4\n",
      "the sum of the even number is 4\n",
      "the sum of the odd numbers is 8\n"
     ]
    }
   ],
   "source": [
    "l=[]\n",
    "n=int(input(\"donner l'effectif de la liste\"))\n",
    "for i in range (0,n):\n",
    "    a=int(input(\"donner les valeurs à ajouter\"))\n",
    "    l.append(a)\n",
    "def somme(l):\n",
    "    s=0\n",
    "    for i in l:\n",
    "        s=s+i\n",
    "    return s\n",
    "def produit(l):\n",
    "    p=1\n",
    "    for i in l:\n",
    "        p=p*i\n",
    "    return p\n",
    "l1=[]\n",
    "l2=[]\n",
    "for i in range (0,len(l),2):\n",
    "    l1.append(l[i])\n",
    "    x=somme(l1)\n",
    "print(\"the sum of the even number is\",x)\n",
    "for i in range (1,len(l),2):\n",
    "    l2.append(l[i])\n",
    "    y=produit(l2)\n",
    "print(\"the sum of the odd numbers is\",y)"
   ]
  },
  {
   "cell_type": "code",
   "execution_count": 12,
   "id": "e3566b0c",
   "metadata": {
    "scrolled": true
   },
   "outputs": [
    {
     "name": "stdout",
     "output_type": "stream",
     "text": [
      "the wordsred-blue-sky\n",
      "blue-red-sky\n"
     ]
    }
   ],
   "source": [
    "x=input(\"the words\")\n",
    "I=x.split('-')\n",
    "I.sort()\n",
    "print('-'.join(I))"
   ]
  },
  {
   "cell_type": "code",
   "execution_count": 74,
   "id": "e3f026b2",
   "metadata": {},
   "outputs": [
    {
     "name": "stdout",
     "output_type": "stream",
     "text": [
      "donner 3 nombre séparés par des virgules100,150,180\n",
      "[18, 22, 24]\n"
     ]
    }
   ],
   "source": [
    "D=input(\"donner 3 nombre séparés par des virgules\")\n",
    "D=D.split(\",\")\n",
    "l=[]\n",
    "for i in range (len(D)):\n",
    "    result=round(sqrt((2*50*int(d[i]))/30))\n",
    "    l.append(result)\n",
    "print(l)\n",
    "    \n"
   ]
  },
  {
   "cell_type": "code",
   "execution_count": 71,
   "id": "d1b2c6f1",
   "metadata": {},
   "outputs": [
    {
     "name": "stdout",
     "output_type": "stream",
     "text": [
      "donner 3 nombre séparés par des virgules100,150,180\n",
      "[100, 150, 180]\n"
     ]
    }
   ],
   "source": [
    "D=input(\"donner 3 nombre séparés par des virgules\")\n",
    "D=D.split(\",\")\n",
    "print(d)"
   ]
  }
 ],
 "metadata": {
  "kernelspec": {
   "display_name": "Python 3",
   "language": "python",
   "name": "python3"
  },
  "language_info": {
   "codemirror_mode": {
    "name": "ipython",
    "version": 3
   },
   "file_extension": ".py",
   "mimetype": "text/x-python",
   "name": "python",
   "nbconvert_exporter": "python",
   "pygments_lexer": "ipython3",
   "version": "3.8.8"
  }
 },
 "nbformat": 4,
 "nbformat_minor": 5
}
