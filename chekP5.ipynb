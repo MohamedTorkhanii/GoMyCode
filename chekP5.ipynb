{
 "cells": [
  {
   "cell_type": "code",
   "execution_count": 21,
   "id": "5727c6b5",
   "metadata": {},
   "outputs": [
    {
     "name": "stdout",
     "output_type": "stream",
     "text": [
      "x=1 y=2 z=3\n"
     ]
    }
   ],
   "source": [
    "#Q1\n",
    "class Point_3D:    \n",
    "    def __init__(self, x, y,z):\n",
    "        self.x = x\n",
    "        self.y = y\n",
    "        self.z = z\n",
    "    \n",
    "    def test(self):\n",
    "        return \"x={} y={} z={}\".format(self.x, self.y, self.z)  \n",
    "    \n",
    "my_point = Point_3D(1,2,3)\n",
    "\n",
    "print(my_point.test())"
   ]
  },
  {
   "cell_type": "code",
   "execution_count": 91,
   "id": "346be7eb",
   "metadata": {},
   "outputs": [
    {
     "name": "stdout",
     "output_type": "stream",
     "text": [
      "lenght=4\n",
      "width=3\n",
      "(14, 12)\n"
     ]
    }
   ],
   "source": [
    "#Q2\n",
    "class Rectangle:\n",
    "    def __init__(self,length,width):\n",
    "        self.length = length\n",
    "        self.width = width\n",
    "        \n",
    "    def perimeter(self,length,width):\n",
    "        return 2*(self.length+self.width)\n",
    "    \n",
    "    def area(self,length,width):\n",
    "        return(self.length*self.width)\n",
    "        \n",
    "lenght=int(input(\"lenght=\"))\n",
    "width=int(input(\"width=\"))\n",
    "\n",
    "rectangle = Rectangle(lenght,width)\n",
    "\n",
    "\n",
    "perimeter = rectangle.perimeter(lenght,width)\n",
    "area = rectangle.area(lenght,width)\n",
    "my_rectangle=(perimeter,area)\n",
    "\n",
    "print(my_rectangle)\n"
   ]
  },
  {
   "cell_type": "code",
   "execution_count": 82,
   "id": "e4b53744",
   "metadata": {},
   "outputs": [
    {
     "name": "stdout",
     "output_type": "stream",
     "text": [
      "rayon=4\n",
      "xO=4\n",
      "yO=4\n",
      "xA=4\n",
      "yA=4\n",
      "(50.26548245743669, 25.132741228718345) the point is inside the circle\n"
     ]
    }
   ],
   "source": [
    "#Q3\n",
    "class Circle:\n",
    "    \n",
    "    def __init__(self,O,r):\n",
    "        self.center = O\n",
    "        self.radius = r\n",
    "        \n",
    "    def compute_area(self):\n",
    "        return pi*self.radius**2\n",
    "    \n",
    "    def compute_perimeter(self):\n",
    "        return 2*pi*self.radius\n",
    "\n",
    "    def point(self,A):\n",
    "        self.center\n",
    "        OA=sqrt((xA-x)**2+(yA-y)**2)\n",
    "        if OA>self.radius :\n",
    "            return (\"the point is outside the circle\")\n",
    "                \n",
    "        elif OA<=self.radius:\n",
    "            return (\"the point is inside the circle\")\n",
    "                \n",
    "r=int(input(\"rayon=\"))    \n",
    "x=int(input(\"xO=\"))\n",
    "y=int(input(\"yO=\"))\n",
    "O=(x,y)\n",
    "xA=int(input(\"xA=\"))\n",
    "yA=int(input(\"yA=\"))\n",
    "A=(xA,yA)\n",
    "circle = Circle(O,r)\n",
    "    \n",
    "area = circle.compute_area()\n",
    "perimeter = circle.compute_perimeter()\n",
    "\n",
    "my_circle=(area,perimeter)\n",
    "                \n",
    "print(my_circle,circle.point(A))"
   ]
  },
  {
   "cell_type": "code",
   "execution_count": 89,
   "id": "03bed245",
   "metadata": {},
   "outputs": [
    {
     "name": "stdout",
     "output_type": "stream",
     "text": [
      "entrer votre solde4200\n",
      "combien voulez vous deposer0\n",
      "combien voulez vous retirer3900\n",
      "apres le depot, vous avez: 4200 votre sold est: 300\n"
     ]
    }
   ],
   "source": [
    "#Q4\n",
    "class bank:\n",
    "    def __init__(self,t):\n",
    "        self.total=t\n",
    "    def deposit(self,val):\n",
    "        self.total=self.total+val\n",
    "        return self.total\n",
    "    def withdraw(self,val):\n",
    "        self.total=self.total-val\n",
    "        return self.total\n",
    "x=int(input(\"entrer votre solde:\"))\n",
    "a=int(input(\"combien voulez vous deposer:\"))\n",
    "b=int(input(\"combien voulez vous retirer:\"))\n",
    "my_account=bank(x)\n",
    "y=my_account.deposit(a)\n",
    "z=my_account.withdraw(b)\n",
    "print(\"apres le depot, vous avez:\",y,\"votre sold est:\",z)\n"
   ]
  }
 ],
 "metadata": {
  "kernelspec": {
   "display_name": "Python 3",
   "language": "python",
   "name": "python3"
  },
  "language_info": {
   "codemirror_mode": {
    "name": "ipython",
    "version": 3
   },
   "file_extension": ".py",
   "mimetype": "text/x-python",
   "name": "python",
   "nbconvert_exporter": "python",
   "pygments_lexer": "ipython3",
   "version": "3.8.8"
  }
 },
 "nbformat": 4,
 "nbformat_minor": 5
}
