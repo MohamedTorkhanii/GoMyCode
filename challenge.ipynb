{
 "cells": [
  {
   "cell_type": "code",
   "execution_count": 37,
   "id": "b05a1f0f",
   "metadata": {},
   "outputs": [
    {
     "name": "stdout",
     "output_type": "stream",
     "text": [
      "donner le motbanana\n",
      "ananab\n"
     ]
    }
   ],
   "source": [
    "word=input(\"donner le mot\")\n",
    "x=word[::-1] #renverser une chaine de caractère\n",
    "print(x)"
   ]
  },
  {
   "cell_type": "code",
   "execution_count": 52,
   "id": "af16a943",
   "metadata": {},
   "outputs": [
    {
     "name": "stdout",
     "output_type": "stream",
     "text": [
      "entrer le motorange\n",
      "3r0ng1\n"
     ]
    }
   ],
   "source": [
    "from re import*\n",
    "word=input(\"entrer le mot\")\n",
    "def voyelle(word):\n",
    "    word, n = re.subn('[a]', '0',word)  #remplacer une chaine de caractère \n",
    "    word, n = re.subn('[e]', '1',word)\n",
    "    word, n = re.subn('[i]', '2',word)\n",
    "    word, n = re.subn('[o]', '3',word)\n",
    "    word, n = re.subn('[u]', '4',word)\n",
    "    word, n = re.subn('[y]', '5',word)\n",
    "    print(word)\n",
    "\n",
    "voyelle(word)\n",
    "\n"
   ]
  },
  {
   "cell_type": "code",
   "execution_count": 53,
   "id": "3c274ec7",
   "metadata": {},
   "outputs": [
    {
     "name": "stdout",
     "output_type": "stream",
     "text": [
      "entrer le motbanana\n",
      "bananaaca\n"
     ]
    }
   ],
   "source": [
    "x=input(\"entrer le mot\")\n",
    "print(x+\"aca\")"
   ]
  },
  {
   "cell_type": "code",
   "execution_count": 49,
   "id": "07eea976",
   "metadata": {},
   "outputs": [
    {
     "name": "stdout",
     "output_type": "stream",
     "text": [
      "entrer le motbanana\n",
      "0n0n0baca\n"
     ]
    }
   ],
   "source": [
    "import re\n",
    "\n",
    "x=input(\"entrer le mot\") #entrer le mot\n",
    "word=x[::-1] #renverser le mot entrer\n",
    "\n",
    "\n",
    "def voyelle(word):\n",
    "\n",
    "    word, n = re.subn('[a]', '0',word) #changer une chaine de caractère dans le mot entrer (exp:a=>)\n",
    "    word, n = re.subn('[e]', '1',word) #e=>1\n",
    "    word, n = re.subn('[i]', '2',word)\n",
    "    word, n = re.subn('[o]', '3',word)\n",
    "    word, n = re.subn('[u]', '4',word)\n",
    "    word, n = re.subn('[y]', '5',word)\n",
    "    print(word+\"aca\") #ajouter \"aca\" a la fin du mot entrer et modifier\n",
    "voyelle(word)\n",
    "  \n",
    "\n"
   ]
  }
 ],
 "metadata": {
  "kernelspec": {
   "display_name": "Python 3",
   "language": "python",
   "name": "python3"
  },
  "language_info": {
   "codemirror_mode": {
    "name": "ipython",
    "version": 3
   },
   "file_extension": ".py",
   "mimetype": "text/x-python",
   "name": "python",
   "nbconvert_exporter": "python",
   "pygments_lexer": "ipython3",
   "version": "3.8.8"
  }
 },
 "nbformat": 4,
 "nbformat_minor": 5
}
